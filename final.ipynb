{
  "nbformat": 4,
  "nbformat_minor": 0,
  "metadata": {
    "colab": {
      "name": "final.ipynb",
      "provenance": []
    },
    "kernelspec": {
      "name": "python3",
      "display_name": "Python 3"
    },
    "language_info": {
      "name": "python"
    }
  },
  "cells": [
    {
      "cell_type": "markdown",
      "metadata": {
        "id": "upK3qcPrwevC"
      },
      "source": [
        "AVD Final\n",
        "\n",
        "Gustavo Lima Carvalho (202010404)\n"
      ]
    },
    {
      "cell_type": "markdown",
      "source": [
        "1. Instalar o Pytesseract e o tesseract-OCR no Colab;"
      ],
      "metadata": {
        "id": "js4a3LCL_xUt"
      }
    },
    {
      "cell_type": "code",
      "metadata": {
        "id": "-Gh-QsgxxTVn",
        "colab": {
          "base_uri": "https://localhost:8080/"
        },
        "outputId": "2db6bf4a-198a-4447-d307-c98fe56f8947"
      },
      "source": [
        "# Instalando o Pytesseract e o tesseract-OCR\n",
        "! sudo apt install tesseract-ocr \n",
        "! pip install pytesseract\n",
        "\n",
        "# Instalando as bibliotecas necessárias\n",
        "import pytesseract\n",
        "import shutil\n",
        "import os\n",
        "import random\n",
        "try:\n",
        " from PIL import Image\n",
        "except ImportError:\n",
        " import Image\n",
        "\n",
        "import numpy as np\n",
        "import pandas as pd\n",
        "import cv2\n",
        "from google.colab.patches import cv2_imshow\n",
        "from skimage import io\n",
        "from PIL import Image \n",
        "import matplotlib.pylab as plt\n",
        "import scipy"
      ],
      "execution_count": 24,
      "outputs": [
        {
          "output_type": "stream",
          "name": "stdout",
          "text": [
            "Reading package lists... Done\n",
            "Building dependency tree       \n",
            "Reading state information... Done\n",
            "tesseract-ocr is already the newest version (4.00~git2288-10f4998a-2).\n",
            "The following package was automatically installed and is no longer required:\n",
            "  libnvidia-common-460\n",
            "Use 'sudo apt autoremove' to remove it.\n",
            "0 upgraded, 0 newly installed, 0 to remove and 62 not upgraded.\n",
            "Looking in indexes: https://pypi.org/simple, https://us-python.pkg.dev/colab-wheels/public/simple/\n",
            "Requirement already satisfied: pytesseract in /usr/local/lib/python3.7/dist-packages (0.3.9)\n",
            "Requirement already satisfied: packaging>=21.3 in /usr/local/lib/python3.7/dist-packages (from pytesseract) (21.3)\n",
            "Requirement already satisfied: Pillow>=8.0.0 in /usr/local/lib/python3.7/dist-packages (from pytesseract) (9.2.0)\n",
            "Requirement already satisfied: pyparsing!=3.0.5,>=2.0.2 in /usr/local/lib/python3.7/dist-packages (from packaging>=21.3->pytesseract) (3.0.9)\n"
          ]
        }
      ]
    },
    {
      "cell_type": "markdown",
      "metadata": {
        "id": "0CiCs43Cxwjs"
      },
      "source": [
        "2. Carregar imagem que contenha texto para o Colab;\n",
        "\n",
        "3. Chamar a função que recebe uma imagem de entrada e extrai o seu texto. Imprimir o texto reconhecido na tela;"
      ]
    },
    {
      "cell_type": "code",
      "metadata": {
        "id": "KaWsizR6BFRl",
        "colab": {
          "base_uri": "https://localhost:8080/",
          "height": 386
        },
        "outputId": "1dcbda12-7370-48a2-c152-f8ac52b73779"
      },
      "source": [
        "# Importando imagem e convertendo de RGB para BGR\n",
        "image = cv2.imread('image.png')\n",
        "image = cv2.cvtColor(image, cv2.COLOR_RGB2BGR)\n",
        "\n",
        "# Utilizando o pytesseract para obter o texto da imagem e imprimi-los\n",
        "cv2_imshow(image)\n",
        "\n",
        "imageText = pytesseract.image_to_string(image)\n",
        "print(imageText)"
      ],
      "execution_count": 25,
      "outputs": [
        {
          "output_type": "display_data",
          "data": {
            "text/plain": [
              "<PIL.Image.Image image mode=RGB size=500x300>"
            ],
            "image/png": "[encoded data removed]"
          },
          "metadata": {}
        },
        {
          "output_type": "stream",
          "name": "stdout",
          "text": [
            "IMAGEM TESTE\n",
            "\n",
            "TEXTO COM IMAGEM\n",
            "\f\n"
          ]
        }
      ]
    },
    {
      "cell_type": "markdown",
      "metadata": {
        "id": "HpjBwjQ6yQWq"
      },
      "source": [
        "4. Obter as coordenadas das caixas envolventes ao redor de cada palavra, e imprima um retângulo VERDE para cada caixa envolvente encontrada usando OpenCV. Utilize a função cv::Rectangle para isso;"
      ]
    },
    {
      "cell_type": "code",
      "metadata": {
        "id": "V-W1a48Lykys",
        "colab": {
          "base_uri": "https://localhost:8080/"
        },
        "outputId": "18dc84fb-7e28-4c23-be47-90f0c7d3eb02"
      },
      "source": [
        "# Utilizando o pytesseract para obter as coordenadas das palavras identificadas\n",
        "print(pytesseract.image_to_data(image))"
      ],
      "execution_count": 26,
      "outputs": [
        {
          "output_type": "stream",
          "name": "stdout",
          "text": [
            "level\tpage_num\tblock_num\tpar_num\tline_num\tword_num\tleft\ttop\twidth\theight\tconf\ttext\n",
            "1\t1\t0\t0\t0\t0\t0\t0\t500\t300\t-1\t\n",
            "2\t1\t1\t0\t0\t0\t48\t39\t389\t41\t-1\t\n",
            "3\t1\t1\t1\t0\t0\t48\t39\t389\t41\t-1\t\n",
            "4\t1\t1\t1\t1\t0\t48\t39\t389\t41\t-1\t\n",
            "5\t1\t1\t1\t1\t1\t48\t39\t220\t41\t91\tIMAGEM\n",
            "5\t1\t1\t1\t1\t2\t288\t39\t149\t41\t96\tTESTE\n",
            "2\t1\t2\t0\t0\t0\t33\t176\t418\t30\t-1\t\n",
            "3\t1\t2\t1\t0\t0\t33\t176\t418\t30\t-1\t\n",
            "4\t1\t2\t1\t1\t0\t33\t176\t418\t30\t-1\t\n",
            "5\t1\t2\t1\t1\t1\t33\t176\t124\t30\t92\tTEXTO\n",
            "5\t1\t2\t1\t1\t2\t172\t176\t93\t30\t93\tCOM\n",
            "5\t1\t2\t1\t1\t3\t284\t176\t167\t30\t91\tIMAGEM\n",
            "\n"
          ]
        }
      ]
    },
    {
      "cell_type": "code",
      "source": [
        "# A partir destas coordenadas, é utilizada a função cv.rectangle para imprimir um retângulo verde nas palavras encontradas na imagem\n",
        "cv2.rectangle(image, pt1=(48,39), pt2=( (48+220), (39+41) ), color=(0,255,0), thickness=1)\n",
        "cv2.rectangle(image, pt1=(288,39), pt2=( (288+149), (39+41) ), color=(0,255,0), thickness=1)\n",
        "cv2.rectangle(image, pt1=(33,176), pt2=( (33+124), (179+30) ), color=(0,255,0), thickness=1)\n",
        "cv2.rectangle(image, pt1=(172,176), pt2=( (172+93), (176+30) ), color=(0,255,0), thickness=1)\n",
        "cv2.rectangle(image, pt1=(284,176), pt2=( (284+167), (176+30) ), color=(0,255,0), thickness=1)\n",
        "\n",
        "# Impressão do resultado final\n",
        "cv2_imshow(image)"
      ],
      "metadata": {
        "colab": {
          "base_uri": "https://localhost:8080/",
          "height": 317
        },
        "id": "KB4Q0XmTCG44",
        "outputId": "dec7f5df-bcb8-4805-8c30-e36fcca8ba25"
      },
      "execution_count": 30,
      "outputs": [
        {
          "output_type": "display_data",
          "data": {
            "text/plain": [
              "<PIL.Image.Image image mode=RGB size=500x300>"
            ],
            "image/png": "[encoded data removed]"
          },
          "metadata": {}
        }
      ]
    }
  ]
}